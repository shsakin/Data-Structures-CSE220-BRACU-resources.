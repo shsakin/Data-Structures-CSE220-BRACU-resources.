{
  "nbformat": 4,
  "nbformat_minor": 0,
  "metadata": {
    "colab": {
      "provenance": []
    },
    "kernelspec": {
      "name": "python3",
      "display_name": "Python 3"
    },
    "language_info": {
      "name": "python"
    }
  },
  "cells": [
    {
      "cell_type": "code",
      "execution_count": 1,
      "metadata": {
        "colab": {
          "base_uri": "https://localhost:8080/"
        },
        "id": "dJSXZIwqwtsc",
        "outputId": "ab656097-bf45-4b33-b5a3-b75a6e9259f9"
      },
      "outputs": [
        {
          "output_type": "stream",
          "name": "stdout",
          "text": [
            "The mean of the number is: 10.181818181818182\n",
            "The standard deviation is: 7.589684168997018\n",
            "New array: [25, -5]\n"
          ]
        }
      ],
      "source": [
        "import math\n",
        "\n",
        "def standard_deviation(array):\n",
        "    mean_val= sum(array)/len(array)\n",
        "    squared_diff= [(x-mean_val)**2 for x in array]\n",
        "    variance= sum(squared_diff)/len(array)\n",
        "    return math.sqrt(variance)\n",
        "\n",
        "def mean(array):\n",
        "    return sum(array)/len(array)\n",
        "\n",
        "def new_array(array):\n",
        "    above= (mean(array)+1.5*standard_deviation(array))\n",
        "    below= (mean(array)-1.5*standard_deviation(array))\n",
        "    lenCount=0\n",
        "    j=0\n",
        "    tempArray=[0]*len(array)\n",
        "    for i in range(len(array)):\n",
        "        if array[i]>above:\n",
        "            lenCount+=1\n",
        "            tempArray[j]=array[i]\n",
        "            j+=1\n",
        "        if array[i]<below:\n",
        "            lenCount+=1\n",
        "            tempArray[j]=array[i]\n",
        "            j+=1\n",
        "    new_arr=[0]*lenCount\n",
        "    for i in range(len(new_arr)):\n",
        "        new_arr[i]=tempArray[i]\n",
        "\n",
        "    if len(new_arr)>0:\n",
        "        return new_arr\n",
        "    else: \n",
        "        return None\n",
        "\n",
        "array=[10,8,13,9,14,25,-5,20,7,7,4]\n",
        "print(f\"The mean of the number is: {mean(array)}\")\n",
        "print(f\"The standard deviation is: {standard_deviation(array)}\")\n",
        "print(f\"New array: {new_array(array)}\")"
      ]
    }
  ]
}