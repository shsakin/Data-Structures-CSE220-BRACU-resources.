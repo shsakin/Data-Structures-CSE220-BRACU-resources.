{
  "nbformat": 4,
  "nbformat_minor": 0,
  "metadata": {
    "colab": {
      "provenance": []
    },
    "kernelspec": {
      "name": "python3",
      "display_name": "Python 3"
    },
    "language_info": {
      "name": "python"
    }
  },
  "cells": [
    {
      "cell_type": "markdown",
      "source": [
        "1(a)"
      ],
      "metadata": {
        "id": "Fpbu0y9MrdBa"
      }
    },
    {
      "cell_type": "code",
      "execution_count": 1,
      "metadata": {
        "colab": {
          "base_uri": "https://localhost:8080/"
        },
        "id": "QZTnPqwZ_C0o",
        "outputId": "c692bfb1-7a12-43bb-9ce3-712f6a40fa6e"
      },
      "outputs": [
        {
          "output_type": "execute_result",
          "data": {
            "text/plain": [
              "120"
            ]
          },
          "metadata": {},
          "execution_count": 1
        }
      ],
      "source": [
        "def factorial(n):\n",
        "  if n==1 or n==0:\n",
        "    return 1\n",
        "  return n*factorial(n-1)\n",
        "factorial(5)\n",
        "  "
      ]
    },
    {
      "cell_type": "markdown",
      "source": [
        "1(b)"
      ],
      "metadata": {
        "id": "3_ghnqSPrb3V"
      }
    },
    {
      "cell_type": "code",
      "source": [
        "def fibonacci(n):\n",
        "  if n==0 or n==1:\n",
        "    return n\n",
        "  else: return fibonacci(n-1)+fibonacci(n-2)\n",
        "\n",
        "fibonacci(6)"
      ],
      "metadata": {
        "colab": {
          "base_uri": "https://localhost:8080/"
        },
        "id": "IBEmXlhaAP9a",
        "outputId": "2082b4f5-fa21-48b2-e0a2-4bf5f84dd38e"
      },
      "execution_count": 2,
      "outputs": [
        {
          "output_type": "execute_result",
          "data": {
            "text/plain": [
              "8"
            ]
          },
          "metadata": {},
          "execution_count": 2
        }
      ]
    },
    {
      "cell_type": "markdown",
      "source": [
        "1(c)"
      ],
      "metadata": {
        "id": "W9cOCzoJrtv9"
      }
    },
    {
      "cell_type": "code",
      "source": [
        "def printarr(arr,i=0):\n",
        "  if i<len(arr):\n",
        "    print(arr[i],end=\" \")\n",
        "    printarr(arr,i+1)\n",
        "\n",
        "arr=[10,20,30,40]\n",
        "printarr(arr)\n"
      ],
      "metadata": {
        "colab": {
          "base_uri": "https://localhost:8080/"
        },
        "id": "g9GXFMDZA04p",
        "outputId": "d8443999-731f-4888-ca18-237d0453a0b4"
      },
      "execution_count": 3,
      "outputs": [
        {
          "output_type": "stream",
          "name": "stdout",
          "text": [
            "10 20 30 40 "
          ]
        }
      ]
    },
    {
      "cell_type": "markdown",
      "source": [
        "1(d)"
      ],
      "metadata": {
        "id": "8UXd0kDJr1RR"
      }
    },
    {
      "cell_type": "code",
      "source": [
        "def powerN(b,n):\n",
        "  if n==0:\n",
        "    return 1\n",
        "  else: return b*powerN(b,n-1)\n",
        "\n",
        "powerN(3,2)\n"
      ],
      "metadata": {
        "colab": {
          "base_uri": "https://localhost:8080/"
        },
        "id": "vHZ29OmVCxIQ",
        "outputId": "11e5c331-3e72-471f-8f4a-f9e46c7ddc40"
      },
      "execution_count": 4,
      "outputs": [
        {
          "output_type": "execute_result",
          "data": {
            "text/plain": [
              "9"
            ]
          },
          "metadata": {},
          "execution_count": 4
        }
      ]
    },
    {
      "cell_type": "markdown",
      "source": [
        "2(a)"
      ],
      "metadata": {
        "id": "psEvuVh9sjLY"
      }
    },
    {
      "cell_type": "code",
      "source": [
        "def binary(n):\n",
        "  if not n:\n",
        "    return\n",
        "  else:\n",
        "    binary(n//2)\n",
        "    print(n%2,end=\"\")\n",
        "\n",
        "binary(10)\n"
      ],
      "metadata": {
        "colab": {
          "base_uri": "https://localhost:8080/"
        },
        "id": "Xj4z7OClI-VV",
        "outputId": "7dfdf02e-12fd-45dc-80dc-ac32a7255415"
      },
      "execution_count": 5,
      "outputs": [
        {
          "output_type": "stream",
          "name": "stdout",
          "text": [
            "1010"
          ]
        }
      ]
    },
    {
      "cell_type": "markdown",
      "source": [
        "Node class"
      ],
      "metadata": {
        "id": "L0kywByytmBR"
      }
    },
    {
      "cell_type": "code",
      "source": [
        "class Node:\n",
        "  def __init__(self,el,n):\n",
        "    self.element=el\n",
        "    self.next=n\n"
      ],
      "metadata": {
        "id": "kUBpCqbUKD9q"
      },
      "execution_count": 6,
      "outputs": []
    },
    {
      "cell_type": "markdown",
      "source": [
        "Converting to Linkedlist"
      ],
      "metadata": {
        "id": "w3XEK1bO-p6i"
      }
    },
    {
      "cell_type": "code",
      "source": [
        "def linkedList(arr):\n",
        "  h=Node(arr[0],None)\n",
        "  head=h\n",
        "  tail=head\n",
        "  for i in range(1,len(arr)):\n",
        "    n=Node(arr[i],None)\n",
        "    tail.next=n\n",
        "    tail=n\n",
        "  return head"
      ],
      "metadata": {
        "id": "CCqODoPYKiyb"
      },
      "execution_count": 7,
      "outputs": []
    },
    {
      "cell_type": "markdown",
      "source": [
        "2(b)"
      ],
      "metadata": {
        "id": "Wv6xeBEDuGfm"
      }
    },
    {
      "cell_type": "code",
      "source": [
        "def addElement(head):\n",
        "  if head:\n",
        "    return head.element+addElement(head.next)\n",
        "  else: return 0\n",
        "\n",
        "arr=[10,20,30,40,50]\n",
        "head=linkedList(arr)\n",
        "print(addElement(head))"
      ],
      "metadata": {
        "colab": {
          "base_uri": "https://localhost:8080/"
        },
        "id": "i7taD7_xLo6S",
        "outputId": "10205681-6d66-4d12-ae87-2581356e6a80"
      },
      "execution_count": 8,
      "outputs": [
        {
          "output_type": "stream",
          "name": "stdout",
          "text": [
            "150\n"
          ]
        }
      ]
    },
    {
      "cell_type": "markdown",
      "source": [
        "2(c)"
      ],
      "metadata": {
        "id": "NxH5g7-Yuie3"
      }
    },
    {
      "cell_type": "code",
      "source": [
        "def revList(head):\n",
        "  if head:\n",
        "    revList(head.next)\n",
        "    print(head.element)\n",
        "arr2=[10,20,30,40]\n",
        "headlist=linkedList(arr2)\n",
        "revList(headlist)"
      ],
      "metadata": {
        "colab": {
          "base_uri": "https://localhost:8080/"
        },
        "id": "qzLD5qyBTQ6z",
        "outputId": "7a7531d0-fc7d-4fcf-ddec-b339db25c029"
      },
      "execution_count": 9,
      "outputs": [
        {
          "output_type": "stream",
          "name": "stdout",
          "text": [
            "40\n",
            "30\n",
            "20\n",
            "10\n"
          ]
        }
      ]
    },
    {
      "cell_type": "markdown",
      "source": [
        "3."
      ],
      "metadata": {
        "id": "ga9d_eiGu8xI"
      }
    },
    {
      "cell_type": "code",
      "source": [
        "def hocBuilder(height):\n",
        "  if height==0:\n",
        "    return 0\n",
        "  if height==1:\n",
        "    return 8\n",
        "  else: return 5+hocBuilder(height-1)\n",
        "\n",
        "hocBuilder(3)"
      ],
      "metadata": {
        "colab": {
          "base_uri": "https://localhost:8080/"
        },
        "id": "dODbTN14UZpq",
        "outputId": "d7548214-7c4f-46b3-9f10-607a9a81a5d6"
      },
      "execution_count": 10,
      "outputs": [
        {
          "output_type": "execute_result",
          "data": {
            "text/plain": [
              "18"
            ]
          },
          "metadata": {},
          "execution_count": 10
        }
      ]
    },
    {
      "cell_type": "markdown",
      "source": [
        "4(a)"
      ],
      "metadata": {
        "id": "wLulLJN_4cb5"
      }
    },
    {
      "cell_type": "code",
      "source": [
        "def printElement(n):\n",
        "  if n>0:\n",
        "      printElement(n-1)\n",
        "      print(n,end=' ')\n",
        "\n",
        "def makeStairs(n):\n",
        "  if n>0: \n",
        "      makeStairs(n-1)\n",
        "      printElement(n)\n",
        "      print()\n",
        "\n",
        "makeStairs(5)"
      ],
      "metadata": {
        "colab": {
          "base_uri": "https://localhost:8080/"
        },
        "id": "FM-hid9-v0bt",
        "outputId": "93717448-54bf-48a4-bab0-8b24446fc0f6"
      },
      "execution_count": 11,
      "outputs": [
        {
          "output_type": "stream",
          "name": "stdout",
          "text": [
            "1 \n",
            "1 2 \n",
            "1 2 3 \n",
            "1 2 3 4 \n",
            "1 2 3 4 5 \n"
          ]
        }
      ]
    },
    {
      "cell_type": "markdown",
      "source": [
        "4(b)"
      ],
      "metadata": {
        "id": "iAuSLNXv7IVg"
      }
    },
    {
      "cell_type": "code",
      "source": [
        "def revStairs(n,y='1'):\n",
        "    if n>0:\n",
        "      if y=='1':\n",
        "        space=' '*((n*2)-2)+y\n",
        "      else:\n",
        "        space=y[2:]+' '+str(int(y[-1])+1)\n",
        "      print(space)\n",
        "      revStairs(n-1,space)\n",
        "\n",
        "revStairs(5)\n",
        "\n",
        "    \n",
        "    \n"
      ],
      "metadata": {
        "colab": {
          "base_uri": "https://localhost:8080/"
        },
        "id": "sKGOYN_D68gD",
        "outputId": "3c4fbe98-d505-4a92-b7e2-718170d79547"
      },
      "execution_count": 12,
      "outputs": [
        {
          "output_type": "stream",
          "name": "stdout",
          "text": [
            "        1\n",
            "      1 2\n",
            "    1 2 3\n",
            "  1 2 3 4\n",
            "1 2 3 4 5\n"
          ]
        }
      ]
    },
    {
      "cell_type": "markdown",
      "source": [
        "5."
      ],
      "metadata": {
        "id": "LmXcK7ZB-5su"
      }
    },
    {
      "cell_type": "code",
      "source": [
        "class FinalQ: \n",
        "   def print(self,array,idx): \n",
        "       if (idx<len(array)): \n",
        "           profit = self.calcProfit(array[idx])\n",
        "           print(f\"{idx+1}. Investment: {array[idx]}; Profit: {profit}\")\n",
        "           self.print(array,idx+1)  \n",
        "  \n",
        "   def calcProfit(self,investment): \n",
        "       if investment>100000:\n",
        "           return 80.0+self.calcProfit(investment-1000)\n",
        "       elif investment>25000:\n",
        "           return 45.0+self.calcProfit(investment-1000)\n",
        "       else:\n",
        "           return 0.0\n",
        "\n",
        " \n",
        "  \n",
        "array=[25000,100000,250000,350000] \n",
        "f = FinalQ() \n",
        "f.print(array,0)\n"
      ],
      "metadata": {
        "colab": {
          "base_uri": "https://localhost:8080/"
        },
        "id": "xi8Oor0u7dbh",
        "outputId": "f8ad74ed-997f-4bae-97e0-6cd1bc300983"
      },
      "execution_count": 13,
      "outputs": [
        {
          "output_type": "stream",
          "name": "stdout",
          "text": [
            "1. Investment: 25000; Profit: 0.0\n",
            "2. Investment: 100000; Profit: 3375.0\n",
            "3. Investment: 250000; Profit: 15375.0\n",
            "4. Investment: 350000; Profit: 23375.0\n"
          ]
        }
      ]
    },
    {
      "cell_type": "markdown",
      "source": [
        "Updated Lab Task 1"
      ],
      "metadata": {
        "id": "uJ7Ad-boJJj5"
      }
    },
    {
      "cell_type": "code",
      "source": [
        "def flattenList(given_list,output_list):\n",
        "    if given_list == []:\n",
        "        return\n",
        "    elif type(given_list[0])==int:\n",
        "        output_list.append(given_list[0])\n",
        "    elif type(given_list[0])==list:\n",
        "        flattenList(given_list[0],output_list)\n",
        "    flattenList(given_list[1:],output_list)\n",
        "    return output_list\n",
        "given_list=[1,[2,[3,[4],5],6],7,8,[9,[[10,11],12],13],14,[15,[16,[17]]]]\n",
        "output_list=flattenList(given_list,[])\n",
        "print(output_list)"
      ],
      "metadata": {
        "colab": {
          "base_uri": "https://localhost:8080/"
        },
        "id": "Uwc9iibWJCNa",
        "outputId": "90577f23-bbdd-4fd7-81a8-daa52d35772f"
      },
      "execution_count": 14,
      "outputs": [
        {
          "output_type": "stream",
          "name": "stdout",
          "text": [
            "[1, 2, 3, 4, 5, 6, 7, 8, 9, 10, 11, 12, 13, 14, 15, 16, 17]\n"
          ]
        }
      ]
    },
    {
      "cell_type": "markdown",
      "source": [
        "Ungraded Task"
      ],
      "metadata": {
        "id": "AB-hfWFyJ2yz"
      }
    },
    {
      "cell_type": "markdown",
      "source": [
        "Node Class"
      ],
      "metadata": {
        "id": "lfW1V8svKH74"
      }
    },
    {
      "cell_type": "code",
      "source": [
        "class Node:\n",
        "   def __init__(self,next,bottom,val):\n",
        "      self.next=next\n",
        "      self.bottom=bottom\n",
        "      self.val=val"
      ],
      "metadata": {
        "id": "pm0LD_MsJ2OF"
      },
      "execution_count": 15,
      "outputs": []
    },
    {
      "cell_type": "markdown",
      "source": [
        "Coverting Nested List into Nested Linked List"
      ],
      "metadata": {
        "id": "jxiQJ1xvIKHl"
      }
    },
    {
      "cell_type": "code",
      "source": [
        "class LinkedList:\n",
        "   def __init__(self,head=None):\n",
        "      self.head=head\n",
        "      self.bottom=False  \n",
        "   def createList(self,l):\n",
        "      if l == []:\n",
        "         return \n",
        "      elif type(l[0])==int:\n",
        "         if not self.head:\n",
        "            self.head= Node(None,None,l[0])\n",
        "            self.tail=self.head\n",
        "         else:\n",
        "            if self.bottom:\n",
        "               self.tail.bottom=Node(None,None,l[0])\n",
        "               self.tail=self.tail.bottom\n",
        "               self.bottom=False\n",
        "            else:\n",
        "               if self.tail.next:\n",
        "                  self.tail.next.next=Node(None,None,l[0])\n",
        "                  self.tail=self.tail.next.next\n",
        "               else:      \n",
        "                  self.tail.next=Node(None,None,l[0])\n",
        "                  self.tail=self.tail.next\n",
        "      elif type(l[0])==list:\n",
        "         self.bottom= True\n",
        "         t=self.tail\n",
        "         self.createList(l[0])\n",
        "         self.tail=t\n",
        "      \n",
        "      self.createList(l[1:])\n",
        "      return self.head"
      ],
      "metadata": {
        "id": "jN8VHBBVeGTS"
      },
      "execution_count": 16,
      "outputs": []
    },
    {
      "cell_type": "markdown",
      "source": [
        "Ungraded Task->Flatten Linked List"
      ],
      "metadata": {
        "id": "ak3XCjGBGxZK"
      }
    },
    {
      "cell_type": "code",
      "source": [
        "def flattenLinkedList(head,newHead):\n",
        "   if not head:\n",
        "      return\n",
        "   if not newHead:\n",
        "      newHead=Node(None,None,head.val)\n",
        "   else:\n",
        "      linkedListAppend(newHead,head.val)\n",
        "   if head.bottom:\n",
        "      flattenLinkedList(head.bottom,newHead)\n",
        "   if head.next:\n",
        "      flattenLinkedList(head.next,newHead)\n",
        "   return newHead\n",
        "\n",
        "def linkedListAppend(head,elem):\n",
        "   if not head.next:\n",
        "      n=Node(None,None,elem)\n",
        "      head.next=n\n",
        "   else:\n",
        "      return linkedListAppend(head.next,elem)\n",
        "\n",
        "def TraverseLinkedList(head):\n",
        "   if head:\n",
        "      print(f\"{head.val}->\",end=' ')\n",
        "      TraverseLinkedList(head.next)\n",
        "\n",
        "given_list=[1,[2,[3,[4],5],6],7,8,[9,[[10,11],12],13],14,[15,[16,[17]]]]\n",
        "a=LinkedList()\n",
        "NestedLinkedList=a.createList(given_list)\n",
        "flattedLinkedList=flattenLinkedList(NestedLinkedList,None)\n",
        "TraverseLinkedList(flattedLinkedList)"
      ],
      "metadata": {
        "colab": {
          "base_uri": "https://localhost:8080/"
        },
        "id": "hFQiPcLpGwrH",
        "outputId": "3c7afce5-f7a1-4db5-f23a-c724b18265ac"
      },
      "execution_count": 17,
      "outputs": [
        {
          "output_type": "stream",
          "name": "stdout",
          "text": [
            "1-> 2-> 3-> 4-> 5-> 6-> 7-> 8-> 9-> 10-> 11-> 12-> 13-> 14-> 15-> 16-> 17-> "
          ]
        }
      ]
    }
  ]
}