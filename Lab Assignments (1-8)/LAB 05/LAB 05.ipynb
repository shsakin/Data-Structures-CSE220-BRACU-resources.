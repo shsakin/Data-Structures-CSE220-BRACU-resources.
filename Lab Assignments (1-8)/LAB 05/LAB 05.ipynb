{
  "nbformat": 4,
  "nbformat_minor": 0,
  "metadata": {
    "colab": {
      "provenance": []
    },
    "kernelspec": {
      "name": "python3",
      "display_name": "Python 3"
    },
    "language_info": {
      "name": "python"
    }
  },
  "cells": [
    {
      "cell_type": "markdown",
      "source": [
        "Task 1"
      ],
      "metadata": {
        "id": "eXUxkl-Xtejf"
      }
    },
    {
      "cell_type": "code",
      "execution_count": 1,
      "metadata": {
        "colab": {
          "base_uri": "https://localhost:8080/"
        },
        "id": "G6I4YBiMAnVT",
        "outputId": "b373fdb0-fe49-4a7b-a049-29a6137921c3"
      },
      "outputs": [
        {
          "output_type": "stream",
          "name": "stdout",
          "text": [
            "The expression is NOT correct\n",
            "Error at character #10. '{'- not closed\n"
          ]
        }
      ],
      "source": [
        "class ArrayStack:\n",
        "  def __init__(self,len):\n",
        "    self.arr=[0]*len\n",
        "    self.top=-1\n",
        "  \n",
        "  def push(self,elem):\n",
        "    if self.top>len(self.arr)-1:\n",
        "      print(\"Overflow\")\n",
        "      return\n",
        "    self.top+=1\n",
        "    self.arr[self.top]=elem\n",
        "  \n",
        "  def pop(self):\n",
        "    if self.top==-1:\n",
        "      print(\"Underflow\")\n",
        "      return\n",
        "    poppedelem=self.arr[self.top]\n",
        "    self.arr[self.top]=0\n",
        "    self.top-=1\n",
        "    return poppedelem\n",
        "\n",
        "\n",
        "  def peak(self):\n",
        "    if self.top==-1 or self.top>len(self.arr)-1:\n",
        "      return\n",
        "    return self.arr[self.top]\n",
        "\n",
        "  def parenthesisCheckArray(self,inp):\n",
        "    opening=[\"(\",\"{\",\"[\"]\n",
        "    closing=[\")\",\"}\",\"]\"]\n",
        "    pair=[\"()\",\"{}\",\"[]\"]\n",
        "    for i in range(len(inp)):\n",
        "        if inp[i] in opening:\n",
        "            self.push(inp[i])\n",
        "\n",
        "\n",
        "        if inp[i] in closing:\n",
        "            if self.peak()==None:\n",
        "                print(\"The expression is NOT correct\")\n",
        "                print(f\"Error at character #{i+1}. '{inp[i]}'- not opened\")\n",
        "                return\n",
        "\n",
        "\n",
        "            elif self.peak()+inp[i] not in pair:\n",
        "                print(\"The expression is NOT correct\")\n",
        "                print(f\"Error at character #{inp.index(self.peak())+1}. '{self.peak()}'- not closed\")\n",
        "                return\n",
        "            else:\n",
        "                self.pop()\n",
        "\n",
        "    if self.top==-1:\n",
        "       print(\"This expression is correct.\")\n",
        "    else:\n",
        "       print(\"The expression is NOT correct\")\n",
        "       print(f\"Error at character #{inp.index(self.peak())+1}. '{self.peak()}'- not closed\")\n",
        "\n",
        "\n",
        "inp=\"1+2*[3*3+{4–5(6(7/8/9)+10)–11+(12*8)]+14\"\n",
        "a=ArrayStack(len(inp))\n",
        "a.parenthesisCheckArray(inp)\n",
        "\n",
        "\n",
        "\n",
        "\n",
        "\n",
        "\n",
        "\n",
        "\n",
        "\n"
      ]
    },
    {
      "cell_type": "markdown",
      "source": [
        "Task 2"
      ],
      "metadata": {
        "id": "DYQ9aadttmBL"
      }
    },
    {
      "cell_type": "code",
      "source": [
        "class Node:\n",
        "  def __init__(self,e,n):\n",
        "    self.element=e\n",
        "    self.next=n\n",
        "\n",
        "class LinkedListStack:\n",
        "  def __init__(self):\n",
        "    self.top=None\n",
        "\n",
        "  def push(self,elem):\n",
        "    if self.top==None:\n",
        "      self.top=Node(elem,None)\n",
        "    else:\n",
        "      n=Node(elem,None)\n",
        "      n.next=self.top\n",
        "      self.top=n\n",
        "\n",
        "  def pop(self):\n",
        "    if self.top==None:\n",
        "      print(\"Underflow\")\n",
        "      return\n",
        "    k=self.top.next\n",
        "    self.top.next=None\n",
        "    self.top=k\n",
        "\n",
        "  def peak(self):\n",
        "    if self.top==None:\n",
        "      return\n",
        "    return self.top.element\n",
        "\n",
        "  def parenthesisCheckLinkedList(self,inp):\n",
        "    opening=[\"(\",\"{\",\"[\"]\n",
        "    closing=[\")\",\"}\",\"]\"]\n",
        "    pair=[\"()\",\"{}\",\"[]\"]\n",
        "    for i in range(len(inp)):\n",
        "      if inp[i] in opening:\n",
        "        self.push(inp[i])\n",
        "      if inp[i] in closing:\n",
        "        if self.peak()==None:\n",
        "          print(\"The expression is NOT correct\")\n",
        "          print(f\"Error at character #{i+1}. '{inp[i]}'- not opened\")\n",
        "          return\n",
        "        elif self.peak()+inp[i] not in pair:\n",
        "          print(\"The expression is NOT correct\")\n",
        "          print(f\"Error at character #{inp.index(self.peak())+1}. '{self.peak()}'- not closed\")\n",
        "          return\n",
        "        else:\n",
        "          self.pop()\n",
        "\n",
        "    if self.top==None:\n",
        "       print(\"This expression is correct.\")\n",
        "    else:\n",
        "       print(\"The expression is NOT correct\")\n",
        "       print(f\"Error at character #{inp.index(self.peak())+1}. '{self.peak()}'- not closed\")\n",
        "\n",
        "inp=\"1+2*[3*3+{4–5(6(7/8/9)+10)–11+(12*8)]+14\"\n",
        "l=LinkedListStack()\n",
        "l.parenthesisCheckLinkedList(inp)\n",
        "\n",
        "\n",
        "\n",
        "  "
      ],
      "metadata": {
        "id": "O4ilylZpf3HB",
        "colab": {
          "base_uri": "https://localhost:8080/"
        },
        "outputId": "8da21f4c-2268-4f0a-d806-d492e2b60da1"
      },
      "execution_count": 2,
      "outputs": [
        {
          "output_type": "stream",
          "name": "stdout",
          "text": [
            "The expression is NOT correct\n",
            "Error at character #10. '{'- not closed\n"
          ]
        }
      ]
    }
  ]
}