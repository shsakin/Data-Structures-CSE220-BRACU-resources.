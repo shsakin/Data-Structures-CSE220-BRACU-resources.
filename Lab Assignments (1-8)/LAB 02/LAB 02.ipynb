{
  "nbformat": 4,
  "nbformat_minor": 0,
  "metadata": {
    "colab": {
      "provenance": []
    },
    "kernelspec": {
      "name": "python3",
      "display_name": "Python 3"
    },
    "language_info": {
      "name": "python"
    }
  },
  "cells": [
    {
      "cell_type": "code",
      "execution_count": null,
      "metadata": {
        "colab": {
          "base_uri": "https://localhost:8080/"
        },
        "id": "J8mHdymY5xtI",
        "outputId": "1c9f28bc-3948-4501-8c47-715de6807e34"
      },
      "outputs": [
        {
          "name": "stdout",
          "output_type": "stream",
          "text": [
            "giRtfel2th\n",
            "rightLeft2\n",
            "Your input is valid.\n",
            "Top Board Start Character: R\n",
            "Top Board Start Index: 2\n",
            "Bottom Board Start Character: L\n",
            "Bottom Board Start Index: 5\n",
            "Press any key and then press enter to continue!!!a\n",
            "Right2left\n",
            "Left2right\n",
            "Press any key and then press enter to continue!!!b\n",
            "tRight2lef\n",
            "tLeft2righ\n",
            "Press any key and then press enter to continue!!!c\n",
            "ftRight2le\n",
            "htLeft2rig\n",
            "Press any key and then press enter to continue!!!d\n",
            "eftRight2l\n",
            "ghtLeft2ri\n",
            "Press any key and then press enter to continue!!!e\n",
            "leftRight2\n",
            "ightLeft2r\n",
            "Press any key and then press enter to continue!!!q\n"
          ]
        }
      ],
      "source": [
        "mul_arr=[[\"\"]*10,\n",
        "         [\"\"]*10]\n",
        "input1=input()\n",
        "input2=input()\n",
        "if len(input1) >10 or len(input2)>10:\n",
        "  print(\"Invalid Input Size\")\n",
        "else:\n",
        "  print(\"Your input is valid.\")\n",
        "start1=0\n",
        "start2=0\n",
        "\n",
        "for i in range(len(input1)):\n",
        "  if 65<=ord(input1[i])<=90:\n",
        "    start1=i\n",
        "  mul_arr[0][i]=input1[i]\n",
        "  \n",
        "for j in range(len(input2)):\n",
        "  if 65<=ord(input2[j])<=90:\n",
        "    start2=j\n",
        "  mul_arr[1][j]=input2[j]\n",
        "print(f\"Top Board Start Character: {mul_arr[0][start1]}\")\n",
        "print(f\"Top Board Start Index: {start1}\")\n",
        "print(f\"Bottom Board Start Character: {mul_arr[1][start2]}\")\n",
        "print(f\"Bottom Board Start Index: {start2}\")\n",
        "\n",
        "while True:\n",
        "  user=input(\"Press any key and then press enter to continue!!!\")\n",
        "  if user==\"q\" or user==\"Q\":\n",
        "    break\n",
        "  point1=start1\n",
        "  point2=start2\n",
        "  for i in range(len(mul_arr[0])):\n",
        "    print(mul_arr[0][point1%len(mul_arr[0])],end=\"\")\n",
        "    point1-=1\n",
        "  print()\n",
        "  \n",
        "  for i in range(len(mul_arr[1])):\n",
        "      print(mul_arr[1][point2%len(mul_arr[1])],end=\"\")\n",
        "      point2+=1\n",
        "  print()\n",
        "  start1+=1\n",
        "  start2-=1\n",
        "\n",
        "\n",
        "\n",
        "\n",
        "\n",
        "\n",
        "\n"
      ]
    }
  ]
}