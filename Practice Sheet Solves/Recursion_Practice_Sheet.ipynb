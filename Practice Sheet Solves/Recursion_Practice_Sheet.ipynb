{
  "nbformat": 4,
  "nbformat_minor": 0,
  "metadata": {
    "colab": {
      "provenance": []
    },
    "kernelspec": {
      "name": "python3",
      "display_name": "Python 3"
    },
    "language_info": {
      "name": "python"
    }
  },
  "cells": [
    {
      "cell_type": "code",
      "execution_count": 1,
      "metadata": {
        "colab": {
          "base_uri": "https://localhost:8080/"
        },
        "id": "rJjn4T8SqDnp",
        "outputId": "db2b3188-0a5d-4e9f-f741-c35cdda3643b"
      },
      "outputs": [
        {
          "output_type": "execute_result",
          "data": {
            "text/plain": [
              "9"
            ]
          },
          "metadata": {},
          "execution_count": 1
        }
      ],
      "source": [
        "#1\n",
        "def sumDigits(n):\n",
        "    if n==0 or n==1:\n",
        "        return n\n",
        "    return (n%10)+sumDigits(n//10)\n",
        "sumDigits(126)"
      ]
    },
    {
      "cell_type": "code",
      "source": [
        "#2\n",
        "def bunnyEars(n):\n",
        "    if not n:\n",
        "        return 0\n",
        "    elif not n%2:\n",
        "        return 3+bunnyEars(n-1)\n",
        "    elif n%2:\n",
        "        return 2+bunnyEars(n-1)\n",
        "    \n",
        "\n",
        "bunnyEars(2)"
      ],
      "metadata": {
        "colab": {
          "base_uri": "https://localhost:8080/"
        },
        "id": "_Lc19-G9qcfe",
        "outputId": "8053d121-c5b4-4c11-aaa9-1934e7d53f33"
      },
      "execution_count": 2,
      "outputs": [
        {
          "output_type": "execute_result",
          "data": {
            "text/plain": [
              "5"
            ]
          },
          "metadata": {},
          "execution_count": 2
        }
      ]
    },
    {
      "cell_type": "code",
      "source": [
        "#3\n",
        "def count7(n):\n",
        "    if n==0:\n",
        "        return 0\n",
        "    elif n%10==7:\n",
        "        return 1+count7(n//10)\n",
        "    return count7(n//10)\n",
        "\n",
        "count7(717)"
      ],
      "metadata": {
        "colab": {
          "base_uri": "https://localhost:8080/"
        },
        "id": "KXammL6Jqg4S",
        "outputId": "ad30a835-ab5f-4bd2-c16a-c3c7d9e3c8ee"
      },
      "execution_count": 3,
      "outputs": [
        {
          "output_type": "execute_result",
          "data": {
            "text/plain": [
              "2"
            ]
          },
          "metadata": {},
          "execution_count": 3
        }
      ]
    },
    {
      "cell_type": "code",
      "source": [
        "#4\n",
        "def countX(s):\n",
        "    if s=='':\n",
        "        return 0\n",
        "    elif s[0]=='x':\n",
        "        return 1+countX(s[1:])\n",
        "    return countX(s[1:])\n",
        "\n",
        "countX('xhixhix')"
      ],
      "metadata": {
        "colab": {
          "base_uri": "https://localhost:8080/"
        },
        "id": "1433UT-RqisZ",
        "outputId": "3ee86660-7599-4026-d363-73868cea2cd0"
      },
      "execution_count": 4,
      "outputs": [
        {
          "output_type": "execute_result",
          "data": {
            "text/plain": [
              "3"
            ]
          },
          "metadata": {},
          "execution_count": 4
        }
      ]
    },
    {
      "cell_type": "code",
      "source": [
        "#5\n",
        "def changePi(s):\n",
        "    if s=='':\n",
        "        return ''\n",
        "    elif len(s)==1:\n",
        "        return s\n",
        "    elif s[0]+s[1]=='pi':\n",
        "        return '3.14'+changePi(s[2:])\n",
        "    return s[0]+changePi(s[1:])\n",
        "changePi('pip')"
      ],
      "metadata": {
        "colab": {
          "base_uri": "https://localhost:8080/",
          "height": 35
        },
        "id": "JvSjClUsqmZP",
        "outputId": "5b2f03da-63b1-4354-d2b2-8c58f50a62e4"
      },
      "execution_count": 5,
      "outputs": [
        {
          "output_type": "execute_result",
          "data": {
            "text/plain": [
              "'3.14p'"
            ],
            "application/vnd.google.colaboratory.intrinsic+json": {
              "type": "string"
            }
          },
          "metadata": {},
          "execution_count": 5
        }
      ]
    },
    {
      "cell_type": "code",
      "source": [
        "#6\n",
        "def array11(array,i):\n",
        "    if i==len(array):\n",
        "        return 0\n",
        "    if array[i]==11:\n",
        "        return 1+array11(array,i+1)\n",
        "    return array11(array,i+1)\n",
        "array11([1,2,11],0)"
      ],
      "metadata": {
        "colab": {
          "base_uri": "https://localhost:8080/"
        },
        "id": "WNPcZlnUqqFe",
        "outputId": "c936563a-4716-4e1b-981e-1537617de3a1"
      },
      "execution_count": 6,
      "outputs": [
        {
          "output_type": "execute_result",
          "data": {
            "text/plain": [
              "1"
            ]
          },
          "metadata": {},
          "execution_count": 6
        }
      ]
    },
    {
      "cell_type": "code",
      "source": [
        "#14\n",
        "def array220(lst,idx):\n",
        "    if idx>=len(lst)-1:\n",
        "        return False\n",
        "    if lst[idx]*10==lst[idx+1]:\n",
        "        return True\n",
        "    else:\n",
        "        return array220(lst[:idx+1]+lst[idx+2:],idx) or array220(lst,idx+1)\n",
        "\n",
        "\n",
        "array220([1,2,20],0)"
      ],
      "metadata": {
        "colab": {
          "base_uri": "https://localhost:8080/"
        },
        "id": "XiKQA6rwqwFc",
        "outputId": "4316f7eb-70d1-42f4-f087-78fa83f0bec2"
      },
      "execution_count": 7,
      "outputs": [
        {
          "output_type": "execute_result",
          "data": {
            "text/plain": [
              "True"
            ]
          },
          "metadata": {},
          "execution_count": 7
        }
      ]
    },
    {
      "cell_type": "code",
      "source": [
        "#17\n",
        "def parenBit(s,paren=False):\n",
        "    if paren:\n",
        "        if s[0]==')':\n",
        "            return s[0]\n",
        "        return s[0]+parenBit(s[1:],paren=True)\n",
        "    if s[0]=='(':\n",
        "        return s[0]+parenBit(s[1:],paren=True)\n",
        "    return parenBit(s[1:])\n",
        "\n",
        "print(parenBit(\"xyz(abc)123\"))"
      ],
      "metadata": {
        "colab": {
          "base_uri": "https://localhost:8080/"
        },
        "id": "P466pi9wq8EF",
        "outputId": "1d2ee9d4-b114-44a8-aadc-93dd89f9b92a"
      },
      "execution_count": 8,
      "outputs": [
        {
          "output_type": "stream",
          "name": "stdout",
          "text": [
            "(abc)\n"
          ]
        }
      ]
    },
    {
      "cell_type": "code",
      "source": [
        "#18\n",
        "def strCopies(st,sub,n):\n",
        "    if n==0:\n",
        "        return True\n",
        "    if st=='':\n",
        "        return False\n",
        "    if st[:len(sub)]==sub:\n",
        "        return strCopies(st[len(sub):],sub,n-1)\n",
        "    else:\n",
        "        return strCopies(st[len(sub):],sub,n)\n",
        "\n",
        "strCopies('catcowcat','cat',2)"
      ],
      "metadata": {
        "colab": {
          "base_uri": "https://localhost:8080/"
        },
        "id": "8rdjW2wLrFRx",
        "outputId": "edc17f1c-e55b-495a-ff0f-bfd0fa2778cf"
      },
      "execution_count": 9,
      "outputs": [
        {
          "output_type": "execute_result",
          "data": {
            "text/plain": [
              "True"
            ]
          },
          "metadata": {},
          "execution_count": 9
        }
      ]
    },
    {
      "cell_type": "code",
      "source": [
        "#20\n",
        "def array6(array,i):\n",
        "    if i==len(array):\n",
        "        return False\n",
        "    if array[i]==6:\n",
        "        return True\n",
        "    return array6(array,i+1)\n",
        "array6([1,6,4],0)"
      ],
      "metadata": {
        "colab": {
          "base_uri": "https://localhost:8080/"
        },
        "id": "8IivjG1FrToh",
        "outputId": "3e6fcd41-c2e9-443e-b192-927f8f01f512"
      },
      "execution_count": 10,
      "outputs": [
        {
          "output_type": "execute_result",
          "data": {
            "text/plain": [
              "True"
            ]
          },
          "metadata": {},
          "execution_count": 10
        }
      ]
    },
    {
      "cell_type": "code",
      "source": [
        "#21\n",
        "def allStar(st):\n",
        "    if len(st)==1:\n",
        "        return st\n",
        "    else:\n",
        "        return st[0]+'*'+allStar(st[1:])\n",
        "    \n",
        "allStar('hello')"
      ],
      "metadata": {
        "colab": {
          "base_uri": "https://localhost:8080/",
          "height": 35
        },
        "id": "HmIHOJG7rUB8",
        "outputId": "018548e6-43b4-4f1f-cdd8-06309784317d"
      },
      "execution_count": 11,
      "outputs": [
        {
          "output_type": "execute_result",
          "data": {
            "text/plain": [
              "'h*e*l*l*o'"
            ],
            "application/vnd.google.colaboratory.intrinsic+json": {
              "type": "string"
            }
          },
          "metadata": {},
          "execution_count": 11
        }
      ]
    },
    {
      "cell_type": "code",
      "source": [
        "#23\n",
        "def stringClean(st):\n",
        "    if len(st)==1:\n",
        "        return st\n",
        "    else:\n",
        "        if st[0] == st[1]:\n",
        "            return stringClean(st[:1]+st[2:])\n",
        "        else:\n",
        "            return st[0]+stringClean(st[1:])\n",
        "        \n",
        "stringClean('yyzzza')"
      ],
      "metadata": {
        "colab": {
          "base_uri": "https://localhost:8080/",
          "height": 35
        },
        "id": "G8jzS4zxrT_W",
        "outputId": "57583af6-60d9-4857-c8a8-087ee1a56088"
      },
      "execution_count": 12,
      "outputs": [
        {
          "output_type": "execute_result",
          "data": {
            "text/plain": [
              "'yza'"
            ],
            "application/vnd.google.colaboratory.intrinsic+json": {
              "type": "string"
            }
          },
          "metadata": {},
          "execution_count": 12
        }
      ]
    },
    {
      "cell_type": "code",
      "source": [
        "#24\n",
        "def nestParen(st):\n",
        "    if st=='':\n",
        "        return True\n",
        "    if st[0]+st[-1]!='()':\n",
        "        return False\n",
        "    return nestParen(st[1:-1])\n",
        "    \n",
        "nestParen('(((x))')"
      ],
      "metadata": {
        "colab": {
          "base_uri": "https://localhost:8080/"
        },
        "id": "2a2_Kl6srT8p",
        "outputId": "b8eae832-ec52-48a5-ad7d-f2fdc177baa0"
      },
      "execution_count": 13,
      "outputs": [
        {
          "output_type": "execute_result",
          "data": {
            "text/plain": [
              "False"
            ]
          },
          "metadata": {},
          "execution_count": 13
        }
      ]
    },
    {
      "cell_type": "code",
      "source": [
        "#25\n",
        "def strDist(st,sub):\n",
        "    if len(st) < len(sub):  \n",
        "        return 0\n",
        "    elif st[:len(sub)] != sub:\n",
        "        return strDist(st[1:], sub) \n",
        "    elif st[-len(sub):] != sub:\n",
        "        return strDist(st[:-1], sub)  \n",
        "    else:\n",
        "        return len(st)\n",
        "    \n",
        "strDist('cccatcowcatxx','cat')"
      ],
      "metadata": {
        "colab": {
          "base_uri": "https://localhost:8080/"
        },
        "id": "-9VHDW-irT4J",
        "outputId": "09b4f98b-1335-4c37-a1a7-c51c8fd8b5e3"
      },
      "execution_count": 14,
      "outputs": [
        {
          "output_type": "execute_result",
          "data": {
            "text/plain": [
              "9"
            ]
          },
          "metadata": {},
          "execution_count": 14
        }
      ]
    },
    {
      "cell_type": "code",
      "source": [
        "#26\n",
        "def groupSum(i,array,n):\n",
        "    if i>=len(array):\n",
        "        return n==0\n",
        "    else:\n",
        "        return groupSum(i+1,array,n) or groupSum(i+1,array,n-array[i])\n",
        "\n",
        "\n",
        "groupSum(0,[2,4,8],10)"
      ],
      "metadata": {
        "colab": {
          "base_uri": "https://localhost:8080/"
        },
        "id": "4qRNTdu1rbQp",
        "outputId": "7f62bea2-0b94-4408-89ef-f5886e3ea741"
      },
      "execution_count": 15,
      "outputs": [
        {
          "output_type": "execute_result",
          "data": {
            "text/plain": [
              "True"
            ]
          },
          "metadata": {},
          "execution_count": 15
        }
      ]
    },
    {
      "cell_type": "code",
      "source": [
        "#27\n",
        "def splitArray(arr,idx=0,sum1=0,sum2=0):\n",
        "    if idx==len(arr):\n",
        "        return sum1==sum2\n",
        "    else:\n",
        "        return splitArray(arr,idx+1,sum1+arr[idx],sum2) or splitArray(arr,idx+1,sum1,sum2+arr[idx])\n",
        "        \n",
        "splitArray([2,2])"
      ],
      "metadata": {
        "colab": {
          "base_uri": "https://localhost:8080/"
        },
        "id": "cgoAqT2NrbOY",
        "outputId": "fd88f1aa-da63-42f6-d219-be2bb12e33fb"
      },
      "execution_count": 16,
      "outputs": [
        {
          "output_type": "execute_result",
          "data": {
            "text/plain": [
              "True"
            ]
          },
          "metadata": {},
          "execution_count": 16
        }
      ]
    },
    {
      "cell_type": "code",
      "source": [
        "#28\n",
        "def splitOdd10(arr,idx=0,sum1=0,sum2=0):\n",
        "    if idx==len(arr):\n",
        "        return sum1%10==0 and sum2%2!=0\n",
        "    else:\n",
        "        return splitOdd10(arr,idx+1,sum1+arr[idx],sum2) or splitOdd10(arr,idx+1,sum1,sum2+arr[idx])\n",
        "\n",
        "splitOdd10([5,5,6,1])"
      ],
      "metadata": {
        "colab": {
          "base_uri": "https://localhost:8080/"
        },
        "id": "lXNaW-TtrbMF",
        "outputId": "73158d65-9ef5-44b8-aaac-ae2f7461eb24"
      },
      "execution_count": 17,
      "outputs": [
        {
          "output_type": "execute_result",
          "data": {
            "text/plain": [
              "True"
            ]
          },
          "metadata": {},
          "execution_count": 17
        }
      ]
    },
    {
      "cell_type": "code",
      "source": [
        "#29\n",
        "def split53(arr,i=0,sum5=0,sum3=0):\n",
        "    if i == len(arr):\n",
        "        return sum5 == sum3\n",
        "    else:\n",
        "        if arr[i] % 5 == 0:\n",
        "            return split53(arr, i+1, sum5+arr[i], sum3)\n",
        "        elif arr[i] % 3 == 0 and arr[i] % 5 != 0:\n",
        "            return split53(arr, i+1, sum5, sum3+arr[i])\n",
        "        else:\n",
        "            return split53(arr, i+1, sum5+arr[i], sum3) or split53(arr, i+1, sum5, sum3+arr[i])\n",
        "\n",
        "split53([2,4,2])"
      ],
      "metadata": {
        "colab": {
          "base_uri": "https://localhost:8080/"
        },
        "id": "ecTCC8AvrbJw",
        "outputId": "8f369d19-7cc7-441b-91f1-54bc88f0ba28"
      },
      "execution_count": 18,
      "outputs": [
        {
          "output_type": "execute_result",
          "data": {
            "text/plain": [
              "True"
            ]
          },
          "metadata": {},
          "execution_count": 18
        }
      ]
    },
    {
      "cell_type": "code",
      "source": [
        "#30\n",
        "def groupSum5(i,arr,n):\n",
        "    if i==len(arr):\n",
        "        return n==0\n",
        "    if arr[i]%5==0:\n",
        "        return groupSum5(i+1,arr,n-arr[i])\n",
        "    if i<len(arr)-1 and arr[i]==1 and arr[i+1]%5==0:\n",
        "        return groupSum5(i+2,arr,n)\n",
        "    return groupSum5(i+1,arr,n-arr[i]) or groupSum5(i+1,arr,n)\n",
        "\n",
        "groupSum5(0,[2,5,10,4],19)"
      ],
      "metadata": {
        "colab": {
          "base_uri": "https://localhost:8080/"
        },
        "id": "8wyauCpurbHX",
        "outputId": "4995d132-15bb-45bc-b67c-9485b026f303"
      },
      "execution_count": 19,
      "outputs": [
        {
          "output_type": "execute_result",
          "data": {
            "text/plain": [
              "True"
            ]
          },
          "metadata": {},
          "execution_count": 19
        }
      ]
    },
    {
      "cell_type": "code",
      "source": [
        "#Summmer 2022 Final Recursion Solution\n",
        "def harmonic_sum(n):\n",
        "    if n == 1:\n",
        "        return 1\n",
        "    return 1/n+harmonic_sum(n-1)\n",
        "harmonic_sum(7)"
      ],
      "metadata": {
        "colab": {
          "base_uri": "https://localhost:8080/"
        },
        "id": "OUkEdeoVr6WR",
        "outputId": "4c65606d-37cd-4e36-8e18-489efc7d5420"
      },
      "execution_count": 20,
      "outputs": [
        {
          "output_type": "execute_result",
          "data": {
            "text/plain": [
              "2.5928571428571425"
            ]
          },
          "metadata": {},
          "execution_count": 20
        }
      ]
    },
    {
      "cell_type": "code",
      "source": [
        "#Fall 2022 Final Recursion Solution\n",
        "def remove_duplicates(string,idx):\n",
        "    if idx>=len(string)-1:\n",
        "        return string\n",
        "    else:\n",
        "        if string[idx] == string[idx+1]:\n",
        "            return remove_duplicates(string[:idx]+string[idx+1:],idx)\n",
        "        else:\n",
        "            return remove_duplicates(string,idx+1)\n",
        "\n",
        "remove_duplicates('CSSSE',0)"
      ],
      "metadata": {
        "colab": {
          "base_uri": "https://localhost:8080/",
          "height": 35
        },
        "id": "Y6vWykbnr6Ns",
        "outputId": "34859165-847c-4530-ad4a-79be7ceb34eb"
      },
      "execution_count": 21,
      "outputs": [
        {
          "output_type": "execute_result",
          "data": {
            "text/plain": [
              "'CSE'"
            ],
            "application/vnd.google.colaboratory.intrinsic+json": {
              "type": "string"
            }
          },
          "metadata": {},
          "execution_count": 21
        }
      ]
    }
  ]
}