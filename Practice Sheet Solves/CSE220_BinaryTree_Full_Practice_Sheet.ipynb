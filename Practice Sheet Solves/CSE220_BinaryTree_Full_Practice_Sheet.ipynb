{
  "nbformat": 4,
  "nbformat_minor": 0,
  "metadata": {
    "colab": {
      "provenance": []
    },
    "kernelspec": {
      "name": "python3",
      "display_name": "Python 3"
    },
    "language_info": {
      "name": "python"
    }
  },
  "cells": [
    {
      "cell_type": "markdown",
      "source": [
        "LAB 08/ Binary Tree Practice sheet: https://docs.google.com/document/d/1oiiMOiWtobQSdUovSHLow-lcXV7JhWiV9hEBmSdxG18/edit"
      ],
      "metadata": {
        "id": "LBKxIEvIGw7v"
      }
    },
    {
      "cell_type": "markdown",
      "source": [
        "I did it in my way, You can definetly do it better."
      ],
      "metadata": {
        "id": "E5oBE9WsHTSU"
      }
    },
    {
      "cell_type": "markdown",
      "source": [
        "Binary Tree"
      ],
      "metadata": {
        "id": "o-RIkOVLJRv2"
      }
    },
    {
      "cell_type": "code",
      "execution_count": 6,
      "metadata": {
        "id": "vApvvewrA_Ix"
      },
      "outputs": [],
      "source": [
        "class Node:\n",
        "    def __init__(self,elem):\n",
        "        self.elem=elem                        #Node class\n",
        "        self.left=self.right=None"
      ]
    },
    {
      "cell_type": "code",
      "source": [
        "def tree_cons(arr,i,n):\n",
        "        root=None\n",
        "        if i<n:\n",
        "            if arr[i]!=None:\n",
        "                root= Node(arr[i])                            #tree construction\n",
        "                root.left= tree_cons(arr,2*i+1,n)\n",
        "                root.right= tree_cons(arr,2*i+2,n)\n",
        "        return root"
      ],
      "metadata": {
        "id": "FO82AAlxBQ5T"
      },
      "execution_count": 7,
      "outputs": []
    },
    {
      "cell_type": "code",
      "source": [
        "def pre_order(root):\n",
        "    if root:\n",
        "        print(root.elem,end=' ')\n",
        "        pre_order(root.left)\n",
        "        pre_order(root.right)\n",
        "\n",
        "def in_order(root):\n",
        "    if root:\n",
        "        in_order(root.left)\n",
        "        print(root.elem,end=' ')\n",
        "        in_order(root.right)\n",
        "        \n",
        "arr_tree1=[1,2,3]\n",
        "root1=tree_cons(arr_tree1,0,len(arr_tree1))\n",
        "pre_order(root1)\n",
        "print()\n",
        "arr_tree2=[1,3,2]\n",
        "root2=tree_cons(arr_tree2,0,len(arr_tree2))\n",
        "pre_order(root2)"
      ],
      "metadata": {
        "colab": {
          "base_uri": "https://localhost:8080/"
        },
        "id": "EYRk2nd6BSms",
        "outputId": "5862aeb6-0c3b-4333-a3ce-3f8b3d1c75bb"
      },
      "execution_count": 8,
      "outputs": [
        {
          "output_type": "stream",
          "name": "stdout",
          "text": [
            "1 2 3 \n",
            "1 3 2 "
          ]
        }
      ]
    },
    {
      "cell_type": "code",
      "source": [
        "#1\n",
        "def is_identical(r1,r2):\n",
        "    if not r1 and not r2:\n",
        "        return True\n",
        "    elif not r1 or not r2:\n",
        "        return False\n",
        "    if r1 and r2:\n",
        "        if r1.elem==r2.elem:\n",
        "            return is_identical(r1.left,r2.left) and is_identical(r1.right,r2.right)\n",
        "        else:\n",
        "            return False\n",
        "\n",
        "print('Yes') if is_identical(root1,root2) else print('No')"
      ],
      "metadata": {
        "colab": {
          "base_uri": "https://localhost:8080/"
        },
        "id": "Nu8z8Z3IBVW5",
        "outputId": "07f77bc1-50a5-40ff-96d4-6ead25320a20"
      },
      "execution_count": 9,
      "outputs": [
        {
          "output_type": "stream",
          "name": "stdout",
          "text": [
            "No\n"
          ]
        }
      ]
    },
    {
      "cell_type": "code",
      "source": [
        "#2\n",
        "def mirror(root):\n",
        "    if not root:\n",
        "        return\n",
        "    else:\n",
        "        root.left,root.right=root.right,root.left\n",
        "    mirror(root.left)\n",
        "    mirror(root.right)\n",
        "\n",
        "tree10=[10,20,30,40,60]\n",
        "root10=tree_cons(tree10,0,len(tree10))\n",
        "in_order(root10) #default\n",
        "print()\n",
        "mirror(root10)\n",
        "in_order(root10) #mirrored/inverted"
      ],
      "metadata": {
        "colab": {
          "base_uri": "https://localhost:8080/"
        },
        "id": "cMucM2cBBq4B",
        "outputId": "f121e3ff-4ce2-44dd-b91c-767087c93f73"
      },
      "execution_count": 10,
      "outputs": [
        {
          "output_type": "stream",
          "name": "stdout",
          "text": [
            "40 20 60 10 30 \n",
            "30 10 60 20 40 "
          ]
        }
      ]
    },
    {
      "cell_type": "code",
      "source": [
        "#3\n",
        "def height(r,l=0):\n",
        "    if not r:\n",
        "        return l-1\n",
        "    else:\n",
        "        return max(height(r.left,l+1),height(r.right,l+1))\n",
        "        \n",
        "def is_balanced(root):\n",
        "    lh= height(root.left,l=1)\n",
        "    rh= height(root.right,l=1)\n",
        "\n",
        "    if lh-rh>1:\n",
        "        return 0\n",
        "    else:\n",
        "        return 1\n",
        "\n",
        "tree3=[1,2,None,None,3]\n",
        "root3=tree_cons(tree3,0,len(tree3))\n",
        "print(is_balanced(root3))"
      ],
      "metadata": {
        "colab": {
          "base_uri": "https://localhost:8080/"
        },
        "id": "wzp7mn4PBX2N",
        "outputId": "627a80f7-ce7a-4fb7-d099-3f77719d68b2"
      },
      "execution_count": 11,
      "outputs": [
        {
          "output_type": "stream",
          "name": "stdout",
          "text": [
            "0\n"
          ]
        }
      ]
    },
    {
      "cell_type": "code",
      "source": [
        "#4\n",
        "def is_Sum_equal(root):\n",
        "    if not root or not root.left and not root.right:\n",
        "        return 1\n",
        "    elif not root.left or not root.right:\n",
        "        if not root.right:\n",
        "            return 1 if root.elem==root.left.elem else 0\n",
        "        elif not root.left:\n",
        "            return 1 if root.elem==root.right.elem else 0\n",
        "    else:\n",
        "        if root.elem!=(root.left.elem+root.right.elem):\n",
        "            return 0\n",
        "        else:\n",
        "            return is_Sum_equal(root.left) and is_Sum_equal(root.right)\n",
        "\n",
        "tree5=[10,10]\n",
        "root5=tree_cons(tree5,0,len(tree5))\n",
        "is_Sum_equal(root5)"
      ],
      "metadata": {
        "colab": {
          "base_uri": "https://localhost:8080/"
        },
        "id": "VC_eqljZBYIw",
        "outputId": "b64a0a2d-0863-4ae4-e3b3-dfb8f8dddffa"
      },
      "execution_count": 12,
      "outputs": [
        {
          "output_type": "execute_result",
          "data": {
            "text/plain": [
              "1"
            ]
          },
          "metadata": {},
          "execution_count": 12
        }
      ]
    },
    {
      "cell_type": "code",
      "source": [
        "#5\n",
        "def largest_values(root,d={},l=0):\n",
        "    if not root:\n",
        "        return \n",
        "    else:\n",
        "        if l not in d:\n",
        "            d[l]=[root.elem]\n",
        "        else:\n",
        "            d[l]+=[root.elem]\n",
        "        largest_values(root.left,d,l+1)\n",
        "        largest_values(root.right,d,l+1) \n",
        "    return d\n",
        "\n",
        "tree6=[4,9,2,3,5,None,7]\n",
        "root6=tree_cons(tree6,0,len(tree6))\n",
        "for i in largest_values(root6).values():\n",
        "    print(max(i),end=' ')"
      ],
      "metadata": {
        "colab": {
          "base_uri": "https://localhost:8080/"
        },
        "id": "Flx-57AuBYa5",
        "outputId": "cf441f73-152c-4b34-ab4a-701b3aa3f402"
      },
      "execution_count": 13,
      "outputs": [
        {
          "output_type": "stream",
          "name": "stdout",
          "text": [
            "4 9 7 "
          ]
        }
      ]
    },
    {
      "cell_type": "code",
      "source": [
        "#6\n",
        "def check_duplicate(root,l=[]):\n",
        "    if root:\n",
        "        if root.elem in l:\n",
        "            return True\n",
        "        else:\n",
        "            l+=[root.elem]\n",
        "        return check_duplicate(root.left,l) or check_duplicate(root.right,l) \n",
        "    return False\n",
        "\n",
        "tree7=[1,2,3,None,None,None,2]\n",
        "root7=tree_cons(tree7,0,len(tree7))\n",
        "print('Yes') if check_duplicate(root7) else print('No')"
      ],
      "metadata": {
        "colab": {
          "base_uri": "https://localhost:8080/"
        },
        "id": "oj8wlaX_BYmM",
        "outputId": "1391024c-9737-46d1-a083-2350226148be"
      },
      "execution_count": 14,
      "outputs": [
        {
          "output_type": "stream",
          "name": "stdout",
          "text": [
            "Yes\n"
          ]
        }
      ]
    },
    {
      "cell_type": "code",
      "source": [
        "#7\n",
        "def destination(root,k,l=0):\n",
        "    if not root:\n",
        "        return\n",
        "    else:\n",
        "        if l==k:\n",
        "            print(root.elem,end=' ')\n",
        "        destination(root.left,k,l+1)\n",
        "        destination(root.right,k,l+1)\n",
        "\n",
        "tree8=[1,2,3,4,5,8]\n",
        "root8=tree_cons(tree8,0,len(tree8))\n",
        "destination(root8,2)"
      ],
      "metadata": {
        "colab": {
          "base_uri": "https://localhost:8080/"
        },
        "id": "f5a7F9LmBY0W",
        "outputId": "0c99b999-3140-405c-dfeb-992e87d69d44"
      },
      "execution_count": 15,
      "outputs": [
        {
          "output_type": "stream",
          "name": "stdout",
          "text": [
            "4 5 8 "
          ]
        }
      ]
    },
    {
      "cell_type": "code",
      "source": [
        "#8\n",
        "def ancestors(root,k):\n",
        "    if not root:\n",
        "        return False\n",
        "    if root.elem==k:\n",
        "        return True\n",
        "    if (ancestors(root.left,k) or ancestors(root.right,k)):\n",
        "        print(root.elem)\n",
        "        return True\n",
        "    return False\n",
        "\n",
        "tree9=[1,2,3,4,5,None,None,None,7]\n",
        "root9=tree_cons(tree9,0,len(tree9))\n",
        "ancestors(root9,7)"
      ],
      "metadata": {
        "colab": {
          "base_uri": "https://localhost:8080/"
        },
        "id": "BeFu-M0pBZGU",
        "outputId": "21bf8e54-ab1d-41e4-b357-87ddfb29d2eb"
      },
      "execution_count": 16,
      "outputs": [
        {
          "output_type": "stream",
          "name": "stdout",
          "text": [
            "4\n",
            "2\n",
            "1\n"
          ]
        },
        {
          "output_type": "execute_result",
          "data": {
            "text/plain": [
              "True"
            ]
          },
          "metadata": {},
          "execution_count": 16
        }
      ]
    },
    {
      "cell_type": "code",
      "source": [
        "#9\n",
        "def printSingleMother(root):\n",
        "    if not root or not root.left and not root.right:\n",
        "        return -1\n",
        "    if not root.left or not root.right:\n",
        "        print(root.elem)\n",
        "    \n",
        "    printSingleMother(root.left)\n",
        "    printSingleMother(root.right)\n",
        "\n",
        "tree11=[2,3,5,7,None,8,6]\n",
        "root11=tree_cons(tree11,0,len(tree11))\n",
        "printSingleMother(root11)"
      ],
      "metadata": {
        "colab": {
          "base_uri": "https://localhost:8080/"
        },
        "id": "G1j5wbz6BZTF",
        "outputId": "308760d6-1641-4ea3-ee7a-fe3152cb4cbd"
      },
      "execution_count": 17,
      "outputs": [
        {
          "output_type": "stream",
          "name": "stdout",
          "text": [
            "3\n"
          ]
        }
      ]
    },
    {
      "cell_type": "code",
      "source": [
        "#10\n",
        "def is_skewed(root):\n",
        "    if not root:\n",
        "        return True \n",
        "    if root.left and root.right:\n",
        "        return False   \n",
        "    elif not root.left or not root.right:\n",
        "            return is_skewed(root.left) and is_skewed(root.right)\n",
        "\n",
        "tree12=[5,4,None,None,3,None,None,None,None,2]\n",
        "root12=tree_cons(tree12,0,len(tree12))\n",
        "print('Yes') if is_skewed(root12) else print('No')"
      ],
      "metadata": {
        "colab": {
          "base_uri": "https://localhost:8080/"
        },
        "id": "WUvHD3SnBZ3b",
        "outputId": "304467ee-4f00-452c-c073-f8f94004eeb9"
      },
      "execution_count": 18,
      "outputs": [
        {
          "output_type": "stream",
          "name": "stdout",
          "text": [
            "Yes\n"
          ]
        }
      ]
    },
    {
      "cell_type": "code",
      "source": [
        "#11\n",
        "def minDepth(root,count=1):\n",
        "    if not root:\n",
        "        return count-1\n",
        "    else:\n",
        "        return min(minDepth(root.left,count+1),minDepth(root.right,count+1))\n",
        "\n",
        "tree13=[1,2,3,4,5,None,None,7]\n",
        "root13=tree_cons(tree13,0,len(tree13))\n",
        "minDepth(root13)"
      ],
      "metadata": {
        "colab": {
          "base_uri": "https://localhost:8080/"
        },
        "id": "8NZV0hj4BaF8",
        "outputId": "ebbdfba6-adfe-411c-c8b6-8fd7ac5dfe92"
      },
      "execution_count": 19,
      "outputs": [
        {
          "output_type": "execute_result",
          "data": {
            "text/plain": [
              "2"
            ]
          },
          "metadata": {},
          "execution_count": 19
        }
      ]
    },
    {
      "cell_type": "code",
      "source": [
        "#12\n",
        "def fullNodes(root):\n",
        "    if not root:\n",
        "        return\n",
        "    elif root.left and root.right:\n",
        "        print(root.elem,end=' ')\n",
        "        fullNodes(root.left)\n",
        "        fullNodes(root.right)\n",
        "\n",
        "tree14=[10,8,2,3,5,7]\n",
        "root14=tree_cons(tree14,0,len(tree14))\n",
        "fullNodes(root14)"
      ],
      "metadata": {
        "colab": {
          "base_uri": "https://localhost:8080/"
        },
        "id": "WMIxvEGUBw71",
        "outputId": "096b673a-3609-4233-f7e1-acddb2d1db2f"
      },
      "execution_count": 20,
      "outputs": [
        {
          "output_type": "stream",
          "name": "stdout",
          "text": [
            "10 8 "
          ]
        }
      ]
    },
    {
      "cell_type": "code",
      "source": [
        "#13\n",
        "def path(root,x,l=[]):\n",
        "    if not root:\n",
        "        return False\n",
        "    if root.elem==x:\n",
        "        l+=[root.elem]\n",
        "        return True\n",
        "    if path(root.left,x,l): \n",
        "        l+=[root.elem]\n",
        "        return l\n",
        "    if path(root.right,x,l): \n",
        "        l+=[root.elem]\n",
        "        return l\n",
        "\n",
        "tree15=[1,2,3,4,5,6,7]\n",
        "root15=tree_cons(tree15,0,len(tree15))\n",
        "for x in path(root15,5)[::-1]:\n",
        "    print(x,end='->')"
      ],
      "metadata": {
        "colab": {
          "base_uri": "https://localhost:8080/"
        },
        "id": "TA8FhFQ2Bw5G",
        "outputId": "1c3f9027-fc7b-4432-83d4-378311dccb9b"
      },
      "execution_count": 21,
      "outputs": [
        {
          "output_type": "stream",
          "name": "stdout",
          "text": [
            "1->2->5->"
          ]
        }
      ]
    },
    {
      "cell_type": "code",
      "source": [
        "#14\n",
        "def evaluate(root):\n",
        "    if not root:\n",
        "        return 0\n",
        "    if not root.left and not root.right:\n",
        "        return root.elem\n",
        "    left_value = evaluate(root.left)\n",
        "    right_value = evaluate(root.right)\n",
        "    if root.elem == '+':\n",
        "        return left_value + right_value\n",
        "    elif root.elem == '-':\n",
        "        return left_value - right_value\n",
        "    elif root.elem == '*':\n",
        "        return left_value * right_value\n",
        "    elif root.elem == '/':\n",
        "        return left_value / right_value\n",
        "\n",
        "tree16=['+','*','/','-',5,21,7,10,5]\n",
        "root16=tree_cons(tree16,0,len(tree16))\n",
        "evaluate(root16)"
      ],
      "metadata": {
        "colab": {
          "base_uri": "https://localhost:8080/"
        },
        "id": "6ufqF7LbB3I_",
        "outputId": "28df0000-9911-4b79-acba-480deb51d47a"
      },
      "execution_count": 22,
      "outputs": [
        {
          "output_type": "execute_result",
          "data": {
            "text/plain": [
              "28.0"
            ]
          },
          "metadata": {},
          "execution_count": 22
        }
      ]
    },
    {
      "cell_type": "markdown",
      "source": [
        "Binary Search Tree"
      ],
      "metadata": {
        "id": "zMAhsXX7I22W"
      }
    },
    {
      "cell_type": "code",
      "source": [
        "#1\n",
        "def is_BST(root):\n",
        "    if not root:\n",
        "        return 1\n",
        "    if root.left:\n",
        "        if root.elem<root.left.elem:\n",
        "            return 0\n",
        "    if root.right:\n",
        "        if root.elem>root.right.elem:\n",
        "            return 0\n",
        "    return is_BST(root.left) and is_BST(root.right)\n",
        "\n",
        "tree17=[2,1,3]\n",
        "root17=tree_cons(tree17,0,len(tree17))\n",
        "is_BST(root17)"
      ],
      "metadata": {
        "colab": {
          "base_uri": "https://localhost:8080/"
        },
        "id": "TZLC5kQIB3eX",
        "outputId": "433fb1de-6cc7-4055-f841-8ce1a2c37c06"
      },
      "execution_count": 23,
      "outputs": [
        {
          "output_type": "execute_result",
          "data": {
            "text/plain": [
              "1"
            ]
          },
          "metadata": {},
          "execution_count": 23
        }
      ]
    },
    {
      "cell_type": "code",
      "source": [
        "#2\n",
        "def balanced_BST(array,start,end):\n",
        "    if start>end:\n",
        "        return \n",
        "    mid=(start+end)//2\n",
        "    root=Node(array[mid])\n",
        "    root.left=balanced_BST(array,start,mid-1)\n",
        "    root.right=balanced_BST(array,mid+1,end)\n",
        "    return root\n",
        "\n",
        "sortedArray=[1,2,3,4,5,6,7]\n",
        "pre_order(balanced_BST(sortedArray,0,len(sortedArray)-1))"
      ],
      "metadata": {
        "colab": {
          "base_uri": "https://localhost:8080/"
        },
        "id": "Rka4Py5oB7kt",
        "outputId": "d1720501-a28d-4d81-d876-f7b80541d05e"
      },
      "execution_count": 24,
      "outputs": [
        {
          "output_type": "stream",
          "name": "stdout",
          "text": [
            "4 2 1 3 6 5 7 "
          ]
        }
      ]
    },
    {
      "cell_type": "code",
      "source": [
        "#3\n",
        "def inorder_push(root,array):\n",
        "    if root:\n",
        "        inorder_push(root.left,array)\n",
        "        array+=[root.elem]\n",
        "        inorder_push(root.right,array)\n",
        "    return array\n",
        "\n",
        "def inOrder_successor(root,x):\n",
        "    arr_inorder=inorder_push(root,[])\n",
        "    if arr_inorder.index(x.elem)==len(arr_inorder)-1:\n",
        "        print('No Successor')\n",
        "        return\n",
        "    else:\n",
        "        return arr_inorder[arr_inorder.index(x.elem)+1]\n",
        "\n",
        "tree18=[20,8,22,4,12,None,None,None,None,10,14]\n",
        "root18=tree_cons(tree18,0,len(tree18))\n",
        "inOrder_successor(root18,Node(8))"
      ],
      "metadata": {
        "colab": {
          "base_uri": "https://localhost:8080/"
        },
        "id": "kG7x2-6uB9je",
        "outputId": "53bcdd09-dcde-41a5-fcba-fbcd3bcf12a9"
      },
      "execution_count": 25,
      "outputs": [
        {
          "output_type": "execute_result",
          "data": {
            "text/plain": [
              "10"
            ]
          },
          "metadata": {},
          "execution_count": 25
        }
      ]
    },
    {
      "cell_type": "code",
      "source": [
        "#4\n",
        "def kth_largest_element(root,k):\n",
        "    count = 0\n",
        "    result = None\n",
        "    \n",
        "    def reverse_inorder_traversal(root):\n",
        "        nonlocal count, result\n",
        "        if root is None or count == k:\n",
        "            return\n",
        "        reverse_inorder_traversal(root.right)\n",
        "        count += 1\n",
        "        if count == k:\n",
        "            result = root.elem\n",
        "            return\n",
        "        reverse_inorder_traversal(root.left)\n",
        "        \n",
        "    reverse_inorder_traversal(root)\n",
        "    return result\n",
        "  \n",
        "tree19=[4,2,9]\n",
        "root19=tree_cons(tree19,0,len(tree19))\n",
        "kth_largest_element(root19,2)"
      ],
      "metadata": {
        "colab": {
          "base_uri": "https://localhost:8080/"
        },
        "id": "6lfi-R3tB_ea",
        "outputId": "6b322176-d8b5-47c2-8c17-429986a2eb80"
      },
      "execution_count": 26,
      "outputs": [
        {
          "output_type": "execute_result",
          "data": {
            "text/plain": [
              "4"
            ]
          },
          "metadata": {},
          "execution_count": 26
        }
      ]
    }
  ]
}